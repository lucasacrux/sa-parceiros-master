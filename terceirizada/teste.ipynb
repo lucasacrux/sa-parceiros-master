{
 "cells": [
  {
   "cell_type": "code",
   "execution_count": 1,
   "metadata": {},
   "outputs": [],
   "source": [
    "from dateutil.relativedelta import relativedelta\n",
    "import mysql.connector\n",
    "import datetime\n",
    "import requests\n",
    "from acruxdb import ParceirosDB\n",
    "\n",
    "po = ParceirosDB()\n",
    "\n",
    "\n",
    "HEADERS = {\n",
    "        \"accept\": \"application/json\",\n",
    "        \"Authorization\": \"Bearer 6|EbVPDgxM5BhGdbsU6MzB9y7LePsfvXIdd3d6NMGC\"\n",
    "    }\n",
    "HOST = '35.237.180.90'\n",
    "#HOST = '10.7.32.12'"
   ]
  },
  {
   "cell_type": "code",
   "execution_count": 1,
   "metadata": {},
   "outputs": [
    {
     "name": "stdout",
     "output_type": "stream",
     "text": [
      "[{'cpf': '123456789', 'nome': 'João', 'telefone': '99999-9999', 'idade': 25.0}, {'cpf': '987654321', 'nome': 'Maria', 'telefone': '88888-8888', 'idade': nan}]\n"
     ]
    }
   ],
   "source": [
    "import pandas as pd\n",
    "\n",
    "# Criando um DataFrame de exemplo\n",
    "data = pd.DataFrame({\n",
    "    \"cpf\": [\"123456789\", \"987654321\"],\n",
    "    \"nome\": [\"João\", \"Maria\"],\n",
    "    \"telefone\": [\"99999-9999\", \"88888-8888\"],\n",
    "    \"idade\": [25, float('nan')]  # Simulando um valor NaN\n",
    "})\n",
    "\n",
    "# Substituir NaN por None antes de converter para dicionário\n",
    "data = data.where(pd.notna(data), None)\n",
    "\n",
    "# Converter para lista de dicionários\n",
    "records = data.to_dict(orient=\"records\")\n",
    "\n",
    "print(records)\n"
   ]
  },
  {
   "cell_type": "code",
   "execution_count": 2,
   "metadata": {},
   "outputs": [
    {
     "data": {
      "text/html": [
       "<div>\n",
       "<style scoped>\n",
       "    .dataframe tbody tr th:only-of-type {\n",
       "        vertical-align: middle;\n",
       "    }\n",
       "\n",
       "    .dataframe tbody tr th {\n",
       "        vertical-align: top;\n",
       "    }\n",
       "\n",
       "    .dataframe thead th {\n",
       "        text-align: right;\n",
       "    }\n",
       "</style>\n",
       "<table border=\"1\" class=\"dataframe\">\n",
       "  <thead>\n",
       "    <tr style=\"text-align: right;\">\n",
       "      <th></th>\n",
       "      <th>cpf</th>\n",
       "      <th>nome</th>\n",
       "      <th>telefone</th>\n",
       "      <th>idade</th>\n",
       "    </tr>\n",
       "  </thead>\n",
       "  <tbody>\n",
       "    <tr>\n",
       "      <th>0</th>\n",
       "      <td>123456789</td>\n",
       "      <td>João</td>\n",
       "      <td>99999-9999</td>\n",
       "      <td>25.0</td>\n",
       "    </tr>\n",
       "    <tr>\n",
       "      <th>1</th>\n",
       "      <td>987654321</td>\n",
       "      <td>Maria</td>\n",
       "      <td>88888-8888</td>\n",
       "      <td>NaN</td>\n",
       "    </tr>\n",
       "  </tbody>\n",
       "</table>\n",
       "</div>"
      ],
      "text/plain": [
       "         cpf   nome    telefone  idade\n",
       "0  123456789   João  99999-9999   25.0\n",
       "1  987654321  Maria  88888-8888    NaN"
      ]
     },
     "execution_count": 2,
     "metadata": {},
     "output_type": "execute_result"
    }
   ],
   "source": [
    "data.drop_duplicates()"
   ]
  },
  {
   "cell_type": "code",
   "execution_count": 2,
   "metadata": {},
   "outputs": [
    {
     "data": {
      "text/plain": [
       "'tesrs'"
      ]
     },
     "execution_count": 2,
     "metadata": {},
     "output_type": "execute_result"
    }
   ],
   "source": [
    "a = 'tesRS'\n",
    "a.lower()"
   ]
  },
  {
   "cell_type": "code",
   "execution_count": 2,
   "metadata": {},
   "outputs": [
    {
     "data": {
      "text/plain": [
       "['id',\n",
       " 'cpf',\n",
       " 'nome',\n",
       " 'sexo',\n",
       " 'estado_civil',\n",
       " 'data_nascimento',\n",
       " 'uf_nascimento',\n",
       " 'nome_pai',\n",
       " 'nome_mae',\n",
       " 'ajuizado',\n",
       " 'central',\n",
       " 'acordo_limpanomes',\n",
       " 'acordo_saiuacordo',\n",
       " 'enderecos',\n",
       " 'emails',\n",
       " 'contratos',\n",
       " 'telefones']"
      ]
     },
     "execution_count": 2,
     "metadata": {},
     "output_type": "execute_result"
    }
   ],
   "source": [
    "po.consulta_campos()"
   ]
  },
  {
   "cell_type": "code",
   "execution_count": 3,
   "metadata": {},
   "outputs": [
    {
     "name": "stdout",
     "output_type": "stream",
     "text": [
      "False\n"
     ]
    }
   ],
   "source": [
    "maiordesconto = 200\n",
    "valor_acordo  = 120\n",
    "\n",
    "diff = valor_acordo - maiordesconto\n",
    "print(diff < -100)\n"
   ]
  },
  {
   "cell_type": "code",
   "execution_count": 23,
   "metadata": {},
   "outputs": [],
   "source": [
    "def corrige_data(data):\n",
    "    data = data.split('/')\n",
    "    return f'{data[2]}-{data[1]}-{data[0]}'\n",
    "\n",
    "class AcruxDB:\n",
    "    \n",
    "    def __init__(self):\n",
    "        self.host     =  HOST\n",
    "        self.database = 'prd-resolvecontas'\n",
    "        self.user     = 'prd_user_powerbi'\n",
    "        self.password = '(\"rYLs+nER0i&Trc'\n",
    "        \n",
    "    def conecta_db(self):\n",
    "        conn = mysql.connector.connect(\n",
    "                host=self.host, \n",
    "                database=self.database, \n",
    "                user=self.user, \n",
    "                password=self.password\n",
    "            )\n",
    "        return conn\n",
    "    \n",
    "    \n",
    "    def retornaContratosPessoaUnico(self, cpf, contrato):\n",
    "        \n",
    "        try:\n",
    "            conn = self.conecta_db()\n",
    "            cursor = conn.cursor(dictionary=True)\n",
    "            QUERY = f\"\"\"\n",
    "                           SELECT id FROM contrato WHERE contrato = '{contrato}' AND  RIGHT(cpf_devedor, 11) = '{cpf}' LIMIT 1  \n",
    "                    \"\"\"\n",
    "            cursor.execute(QUERY)\n",
    "            contratos = cursor.fetchall()\n",
    "        except Exception as e:\n",
    "            print(e)\n",
    "            return None\n",
    "        conn.close()\n",
    "        try:\n",
    "            id = contratos[0]['id']\n",
    "        except:\n",
    "            id = None\n",
    "        return id\n",
    "    \n",
    "    \n",
    "    def corrige_parcelas(self, parcelas, id_acordo):\n",
    "        \n",
    "        try:\n",
    "            for parcela in parcelas:\n",
    "                QUERY = f\"UPDATE resolvecontas_parcela SET dataVencimento = '{corrige_data(parcela['dataVencimento'])}' WHERE acordo_id = {id_acordo} AND numeroParcela = {parcela['numero']};\"    \n",
    "                conn = self.conecta_db()\n",
    "                cursor = conn.cursor()\n",
    "                cursor.execute(QUERY)\n",
    "                conn.commit()\n",
    "                conn.close()\n",
    "        except Exception as e:\n",
    "            print(e)\n",
    "            return False\n",
    "        return True"
   ]
  },
  {
   "cell_type": "code",
   "execution_count": 24,
   "metadata": {},
   "outputs": [],
   "source": [
    "PARCELAS = '[{\"valor\": \"170,18\", \"numero\": \"1\", \"dataVencimento\": \"22/05/2024\"}, {\"valor\": \"170,18\", \"numero\": \"2\", \"dataVencimento\": \"25/06/2024\"}, {\"valor\": \"170,18\", \"numero\": \"3\", \"dataVencimento\": \"25/07/2024\"}, {\"valor\": \"170,18\", \"numero\": \"4\", \"dataVencimento\": \"25/08/2024\"}, {\"valor\": \"170,18\", \"numero\": \"5\", \"dataVencimento\": \"25/09/2024\"}, {\"valor\": \"170,18\", \"numero\": \"6\", \"dataVencimento\": \"25/10/2024\"}, {\"valor\": \"170,18\", \"numero\": \"7\", \"dataVencimento\": \"25/11/2024\"}, {\"valor\": \"170,18\", \"numero\": \"8\", \"dataVencimento\": \"25/12/2024\"}, {\"valor\": \"170,18\", \"numero\": \"9\", \"dataVencimento\": \"25/01/2025\"}, {\"valor\": \"170,18\", \"numero\": \"10\", \"dataVencimento\": \"25/02/2025\"}, {\"valor\": \"170,18\", \"numero\": \"11\", \"dataVencimento\": \"25/03/2025\"}]'"
   ]
  },
  {
   "cell_type": "code",
   "execution_count": 25,
   "metadata": {},
   "outputs": [],
   "source": [
    "PARCELAS = eval(PARCELAS)"
   ]
  },
  {
   "cell_type": "code",
   "execution_count": 26,
   "metadata": {},
   "outputs": [
    {
     "data": {
      "text/plain": [
       "True"
      ]
     },
     "execution_count": 26,
     "metadata": {},
     "output_type": "execute_result"
    }
   ],
   "source": [
    "db = AcruxDB()\n",
    "db.corrige_parcelas(PARCELAS, 19242)"
   ]
  },
  {
   "cell_type": "code",
   "execution_count": 13,
   "metadata": {},
   "outputs": [],
   "source": []
  },
  {
   "cell_type": "code",
   "execution_count": 12,
   "metadata": {},
   "outputs": [
    {
     "data": {
      "text/plain": [
       "\"UPDATE resolvecontas_parcela SET dataVencimento = '2024-05-22' WHERE acordo_id = 7976 AND numeroParcela = 1;UPDATE resolvecontas_parcela SET dataVencimento = '2024-06-25' WHERE acordo_id = 7976 AND numeroParcela = 2;UPDATE resolvecontas_parcela SET dataVencimento = '2024-07-25' WHERE acordo_id = 7976 AND numeroParcela = 3;UPDATE resolvecontas_parcela SET dataVencimento = '2024-08-25' WHERE acordo_id = 7976 AND numeroParcela = 4;UPDATE resolvecontas_parcela SET dataVencimento = '2024-09-25' WHERE acordo_id = 7976 AND numeroParcela = 5;UPDATE resolvecontas_parcela SET dataVencimento = '2024-10-25' WHERE acordo_id = 7976 AND numeroParcela = 6;UPDATE resolvecontas_parcela SET dataVencimento = '2024-11-25' WHERE acordo_id = 7976 AND numeroParcela = 7;UPDATE resolvecontas_parcela SET dataVencimento = '2024-12-25' WHERE acordo_id = 7976 AND numeroParcela = 8;UPDATE resolvecontas_parcela SET dataVencimento = '2025-01-25' WHERE acordo_id = 7976 AND numeroParcela = 9;UPDATE resolvecontas_parcela SET dataVencimento = '2025-02-25' WHERE acordo_id = 7976 AND numeroParcela = 10;UPDATE resolvecontas_parcela SET dataVencimento = '2025-03-25' WHERE acordo_id = 7976 AND numeroParcela = 11;\""
      ]
     },
     "execution_count": 12,
     "metadata": {},
     "output_type": "execute_result"
    }
   ],
   "source": [
    "QUERY"
   ]
  },
  {
   "cell_type": "code",
   "execution_count": 1,
   "metadata": {},
   "outputs": [],
   "source": [
    "from acruxdb import ParceirosDB"
   ]
  },
  {
   "cell_type": "code",
   "execution_count": null,
   "metadata": {},
   "outputs": [
    {
     "name": "stdout",
     "output_type": "stream",
     "text": [
      "    id                              nome          cpf email telefone  \\\n",
      "0  110                          anderson  05726067703  None     None   \n",
      "1  111                             maria  14699705707  None     None   \n",
      "2  113  Lucas Oliveira Ferreira de Matos  14525757701  None     None   \n",
      "3  114                     Luiz Fernando  17854401799  None     None   \n",
      "\n",
      "  data_nascimento  uf endereco nome_pai nome_mae  sexo estado_civil  \\\n",
      "0      1978-09-05  SP     None     None     None  None         None   \n",
      "1      1980-06-20  RS     None     None     None  None         None   \n",
      "2      1996-03-10  SP     None     None     None  None         None   \n",
      "3      1998-11-20  RJ     None     None     None  None         None   \n",
      "\n",
      "  custom_fields  empresa_id  \n",
      "0          null           9  \n",
      "1          null           9  \n",
      "2          null           9  \n",
      "3          null           9  \n"
     ]
    }
   ],
   "source": [
    "\n",
    "\n",
    "po = ParceirosDB()\n",
    "with open('teste.sql', 'r') as file:\n",
    "    conte = file.read()\n",
    "    campos_padrao = po.consulta_pessoas(conte)\n",
    "    print(campos_padrao)\n"
   ]
  }
 ],
 "metadata": {
  "kernelspec": {
   "display_name": "Python 3",
   "language": "python",
   "name": "python3"
  },
  "language_info": {
   "codemirror_mode": {
    "name": "ipython",
    "version": 3
   },
   "file_extension": ".py",
   "mimetype": "text/x-python",
   "name": "python",
   "nbconvert_exporter": "python",
   "pygments_lexer": "ipython3",
   "version": "3.10.11"
  },
  "orig_nbformat": 4
 },
 "nbformat": 4,
 "nbformat_minor": 2
}
