{
 "cells": [
  {
   "cell_type": "code",
   "execution_count": 8,
   "metadata": {},
   "outputs": [],
   "source": [
    "import django\n",
    "import pandas as pd\n",
    "from django.template import loader, Context\n",
    "import mysql.connector\n",
    "from jinja2 import Environment, FileSystemLoader\n",
    "import pdfkit\n",
    "import os\n",
    "\n",
    "class dbResolveContas:\n",
    "    \n",
    "    def __init__(self):\n",
    "            \n",
    "        self.host     = '35.237.180.90'\n",
    "        self.database = 'prd-resolvecontas'\n",
    "        self.user     = 'prd_user_powerbi'\n",
    "        self.password = '(\"rYLs+nER0i&Trc'\n",
    "                \n",
    "        \n",
    "    def conecta_db(self):\n",
    "        conn = mysql.connector.connect(\n",
    "                host     = self.host,\n",
    "                database = self.database,\n",
    "                user     = self.user,\n",
    "                password = self.password\n",
    "            )\n",
    "        return conn\n",
    "    \n",
    "    \n",
    "    def retornaAcordos(self):\n",
    "        try:\n",
    "            conn = self.conecta_db()\n",
    "            QUERY_PARCELAS = f\"\"\"\n",
    "                                SELECT * FROM acordo a          \n",
    "                                INNER JOIN contrato c ON a.contrato_id = c.id\n",
    "                                INNER JOIN devedor d ON c.devedor_id = d.id\n",
    "                                WHERE a.dataCriacao = '2025-04-25' AND closer_id = 58\n",
    "                                AND created_by = 70 AND active = 'ATIVO'\n",
    "                            \"\"\"\n",
    "        except Exception as e:\n",
    "            return None\n",
    "        acordos = pd.read_sql(QUERY_PARCELAS, conn)\n",
    "        return acordos"
   ]
  },
  {
   "cell_type": "code",
   "execution_count": 9,
   "metadata": {},
   "outputs": [],
   "source": [
    "resolve = dbResolveContas()\n",
    "acordos = resolve.retornaAcordos()"
   ]
  },
  {
   "cell_type": "code",
   "execution_count": 10,
   "metadata": {},
   "outputs": [],
   "source": [
    "# Dicionários que você usava na view\n",
    "dict_empresa = {\n",
    "    1: 'Acrux Securitizadora SA',\n",
    "    2: 'Acrux Securitizadora SA',\n",
    "    3: 'Betacrux Securitizadora LTDA',\n",
    "    4: 'Acrux Securitizadora SA',\n",
    "    5: 'Acrux Securitizadora SA',\n",
    "}\n",
    "\n",
    "dict_produto = {\n",
    "    1: 'Empréstimo Pessoal',\n",
    "    2: 'Empréstimo Consignado',\n",
    "    3: 'Empréstimo Pessoal',\n",
    "    4: 'Empréstimo Pessoal',\n",
    "    5: 'Empréstimo Pessoal'\n",
    "}\n",
    "\n",
    "dict_credor = {\n",
    "    1: 'Banco BMG',\n",
    "    2: 'Banco BMG',\n",
    "    3: 'Banco BMG',\n",
    "    4: 'Open Co/Geru',\n",
    "    5: 'Open Co/Rebel'\n",
    "}\n",
    "\n",
    "dict_cessao = {\n",
    "    1: '30/12/2020',\n",
    "    2: '30/12/2021',\n",
    "    3: '29/06/2022',\n",
    "    4: '28/03/2025',\n",
    "    5: '28/03/2025'\n",
    "}"
   ]
  },
  {
   "cell_type": "code",
   "execution_count": 11,
   "metadata": {},
   "outputs": [
    {
     "name": "stdout",
     "output_type": "stream",
     "text": [
      "DEBUG: True\n",
      "ROOT_URLCONF: servicesweb.urls\n",
      "BASE_DIR: /home/anderson/dev/django/acrux/sa-parceiros\n"
     ]
    }
   ],
   "source": [
    "import os\n",
    "import sys\n",
    "import django\n",
    "\n",
    "# 1. Aponta para o diretório onde está a PASTA servicesweb\n",
    "sys.path.append('/home/anderson/dev/django/acrux/sa-parceiros')\n",
    "\n",
    "# 2. Define o módulo settings\n",
    "os.environ.setdefault('DJANGO_SETTINGS_MODULE', 'servicesweb.settings')\n",
    "\n",
    "# 3. Inicializa Django\n",
    "django.setup()\n",
    "\n",
    "# Agora testando se carregou:\n",
    "from django.conf import settings\n",
    "\n",
    "print('DEBUG:', settings.DEBUG)\n",
    "print('ROOT_URLCONF:', getattr(settings, 'ROOT_URLCONF', None))\n",
    "print('BASE_DIR:', getattr(settings, 'BASE_DIR', None))\n"
   ]
  },
  {
   "cell_type": "code",
   "execution_count": 5,
   "metadata": {},
   "outputs": [],
   "source": [
    "template = loader.get_template('t_proposta.html')"
   ]
  },
  {
   "cell_type": "code",
   "execution_count": 13,
   "metadata": {},
   "outputs": [
    {
     "ename": "OSError",
     "evalue": "wkhtmltopdf reported an error:\nlibpng warning: iCCP: known incorrect sRGB profile\nlibpng warning: iCCP: known incorrect sRGB profile\nExit with code 1 due to network error: ContentNotFoundError\n",
     "output_type": "error",
     "traceback": [
      "\u001b[0;31m---------------------------------------------------------------------------\u001b[0m",
      "\u001b[0;31mOSError\u001b[0m                                   Traceback (most recent call last)",
      "\u001b[1;32m/home/anderson/dev/django/acrux/sa-parceiros/terceirizada/gerarPropostas.ipynb Célula 6\u001b[0m line \u001b[0;36m2\n\u001b[1;32m     <a href='vscode-notebook-cell:/home/anderson/dev/django/acrux/sa-parceiros/terceirizada/gerarPropostas.ipynb#W6sZmlsZQ%3D%3D?line=22'>23</a>\u001b[0m base_path \u001b[39m=\u001b[39m \u001b[39m'\u001b[39m\u001b[39mfile://\u001b[39m\u001b[39m'\u001b[39m \u001b[39m+\u001b[39m os\u001b[39m.\u001b[39mpath\u001b[39m.\u001b[39mabspath(\u001b[39m'\u001b[39m\u001b[39mstatic\u001b[39m\u001b[39m'\u001b[39m)\n\u001b[1;32m     <a href='vscode-notebook-cell:/home/anderson/dev/django/acrux/sa-parceiros/terceirizada/gerarPropostas.ipynb#W6sZmlsZQ%3D%3D?line=24'>25</a>\u001b[0m output_path \u001b[39m=\u001b[39m \u001b[39mf\u001b[39m\u001b[39m'\u001b[39m\u001b[39mpdfs/proposta_\u001b[39m\u001b[39m{\u001b[39;00mrow[\u001b[39m\"\u001b[39m\u001b[39mid\u001b[39m\u001b[39m\"\u001b[39m]\u001b[39m}\u001b[39;00m\u001b[39m.pdf\u001b[39m\u001b[39m'\u001b[39m\n\u001b[0;32m---> <a href='vscode-notebook-cell:/home/anderson/dev/django/acrux/sa-parceiros/terceirizada/gerarPropostas.ipynb#W6sZmlsZQ%3D%3D?line=26'>27</a>\u001b[0m pdfkit\u001b[39m.\u001b[39;49mfrom_string(html_content, output_path, options\u001b[39m=\u001b[39;49moptions)\n\u001b[1;32m     <a href='vscode-notebook-cell:/home/anderson/dev/django/acrux/sa-parceiros/terceirizada/gerarPropostas.ipynb#W6sZmlsZQ%3D%3D?line=27'>28</a>\u001b[0m \u001b[39mprint\u001b[39m(\u001b[39mf\u001b[39m\u001b[39m\"\u001b[39m\u001b[39mPDF gerado: \u001b[39m\u001b[39m{\u001b[39;00moutput_path\u001b[39m}\u001b[39;00m\u001b[39m\"\u001b[39m)\n",
      "File \u001b[0;32m~/dev/django/acrux/.sa-parceiros/lib/python3.10/site-packages/pdfkit/api.py:75\u001b[0m, in \u001b[0;36mfrom_string\u001b[0;34m(input, output_path, options, toc, cover, css, configuration, cover_first, verbose)\u001b[0m\n\u001b[1;32m     56\u001b[0m \u001b[39m\u001b[39m\u001b[39m\"\"\"\u001b[39;00m\n\u001b[1;32m     57\u001b[0m \u001b[39mConvert given string or strings to PDF document\u001b[39;00m\n\u001b[1;32m     58\u001b[0m \n\u001b[0;32m   (...)\u001b[0m\n\u001b[1;32m     69\u001b[0m \u001b[39mReturns: True on success\u001b[39;00m\n\u001b[1;32m     70\u001b[0m \u001b[39m\"\"\"\u001b[39;00m\n\u001b[1;32m     72\u001b[0m r \u001b[39m=\u001b[39m PDFKit(\u001b[39minput\u001b[39m, \u001b[39m'\u001b[39m\u001b[39mstring\u001b[39m\u001b[39m'\u001b[39m, options\u001b[39m=\u001b[39moptions, toc\u001b[39m=\u001b[39mtoc, cover\u001b[39m=\u001b[39mcover, css\u001b[39m=\u001b[39mcss,\n\u001b[1;32m     73\u001b[0m            configuration\u001b[39m=\u001b[39mconfiguration, cover_first\u001b[39m=\u001b[39mcover_first, verbose\u001b[39m=\u001b[39mverbose)\n\u001b[0;32m---> 75\u001b[0m \u001b[39mreturn\u001b[39;00m r\u001b[39m.\u001b[39;49mto_pdf(output_path)\n",
      "File \u001b[0;32m~/dev/django/acrux/.sa-parceiros/lib/python3.10/site-packages/pdfkit/pdfkit.py:201\u001b[0m, in \u001b[0;36mPDFKit.to_pdf\u001b[0;34m(self, path)\u001b[0m\n\u001b[1;32m    199\u001b[0m stderr \u001b[39m=\u001b[39m stderr\u001b[39m.\u001b[39mdecode(\u001b[39m'\u001b[39m\u001b[39mutf-8\u001b[39m\u001b[39m'\u001b[39m, errors\u001b[39m=\u001b[39m\u001b[39m'\u001b[39m\u001b[39mreplace\u001b[39m\u001b[39m'\u001b[39m)\n\u001b[1;32m    200\u001b[0m exit_code \u001b[39m=\u001b[39m result\u001b[39m.\u001b[39mreturncode\n\u001b[0;32m--> 201\u001b[0m \u001b[39mself\u001b[39;49m\u001b[39m.\u001b[39;49mhandle_error(exit_code, stderr)\n\u001b[1;32m    203\u001b[0m \u001b[39m# Since wkhtmltopdf sends its output to stderr we will capture it\u001b[39;00m\n\u001b[1;32m    204\u001b[0m \u001b[39m# and properly send to stdout\u001b[39;00m\n\u001b[1;32m    205\u001b[0m \u001b[39mif\u001b[39;00m \u001b[39m'\u001b[39m\u001b[39m--quiet\u001b[39m\u001b[39m'\u001b[39m \u001b[39mnot\u001b[39;00m \u001b[39min\u001b[39;00m args:\n",
      "File \u001b[0;32m~/dev/django/acrux/.sa-parceiros/lib/python3.10/site-packages/pdfkit/pdfkit.py:155\u001b[0m, in \u001b[0;36mPDFKit.handle_error\u001b[0;34m(exit_code, stderr)\u001b[0m\n\u001b[1;32m    149\u001b[0m     \u001b[39mraise\u001b[39;00m \u001b[39mIOError\u001b[39;00m(\u001b[39m'\u001b[39m\u001b[39m%s\u001b[39;00m\u001b[39m\\n\u001b[39;00m\u001b[39m'\u001b[39m\n\u001b[1;32m    150\u001b[0m                   \u001b[39m'\u001b[39m\u001b[39mYou will need to run wkhtmltopdf within a \u001b[39m\u001b[39m\"\u001b[39m\u001b[39mvirtual\u001b[39m\u001b[39m\"\u001b[39m\u001b[39m X server.\u001b[39m\u001b[39m\\n\u001b[39;00m\u001b[39m'\u001b[39m\n\u001b[1;32m    151\u001b[0m                   \u001b[39m'\u001b[39m\u001b[39mGo to the link below for more information\u001b[39m\u001b[39m\\n\u001b[39;00m\u001b[39m'\u001b[39m\n\u001b[1;32m    152\u001b[0m                   \u001b[39m'\u001b[39m\u001b[39mhttps://github.com/JazzCore/python-pdfkit/wiki/Using-wkhtmltopdf-without-X-server\u001b[39m\u001b[39m'\u001b[39m \u001b[39m%\u001b[39m stderr)\n\u001b[1;32m    154\u001b[0m \u001b[39mif\u001b[39;00m \u001b[39m'\u001b[39m\u001b[39mError\u001b[39m\u001b[39m'\u001b[39m \u001b[39min\u001b[39;00m stderr:\n\u001b[0;32m--> 155\u001b[0m     \u001b[39mraise\u001b[39;00m \u001b[39mIOError\u001b[39;00m(\u001b[39m'\u001b[39m\u001b[39mwkhtmltopdf reported an error:\u001b[39m\u001b[39m\\n\u001b[39;00m\u001b[39m'\u001b[39m \u001b[39m+\u001b[39m stderr)\n\u001b[1;32m    157\u001b[0m error_msg \u001b[39m=\u001b[39m stderr \u001b[39mor\u001b[39;00m \u001b[39m'\u001b[39m\u001b[39mUnknown Error\u001b[39m\u001b[39m'\u001b[39m\n\u001b[1;32m    158\u001b[0m \u001b[39mraise\u001b[39;00m \u001b[39mIOError\u001b[39;00m(\u001b[39m\"\u001b[39m\u001b[39mwkhtmltopdf exited with non-zero code \u001b[39m\u001b[39m{0}\u001b[39;00m\u001b[39m. error:\u001b[39m\u001b[39m\\n\u001b[39;00m\u001b[39m{1}\u001b[39;00m\u001b[39m\"\u001b[39m\u001b[39m.\u001b[39mformat(exit_code, error_msg))\n",
      "\u001b[0;31mOSError\u001b[0m: wkhtmltopdf reported an error:\nlibpng warning: iCCP: known incorrect sRGB profile\nlibpng warning: iCCP: known incorrect sRGB profile\nExit with code 1 due to network error: ContentNotFoundError\n"
     ]
    }
   ],
   "source": [
    "for _, row in acordos[:2].iterrows():\n",
    "    acordo = {\n",
    "        'nome': row['nome'],\n",
    "        'valor_pendente': row['valor'],\n",
    "        'valor_do_acordo': row['valor'],\n",
    "        'nome_credor_atual': dict_empresa.get(row['carteira_id'], ''),\n",
    "        'nome_credor_original': dict_credor.get(row['carteira_id'], ''),\n",
    "        'tipo_produto': dict_produto.get(row['carteira_id'], ''),\n",
    "        'data_cessao': dict_cessao.get(row['carteira_id'], ''),\n",
    "        'valor_desconto': row['valor'] - row['valor'],\n",
    "    }\n",
    "    # Configurações\n",
    "    options = {\n",
    "        'encoding': \"UTF-8\",\n",
    "    }\n",
    "\n",
    "\n",
    "    \n",
    "    context = {'acordo': acordo, 'falha': False}\n",
    "    html_content = template.render(context)\n",
    "\n",
    "    # Caminho absoluto para a pasta onde estão os seus arquivos estáticos\n",
    "    base_path = 'file://' + os.path.abspath('static')\n",
    "\n",
    "    output_path = f'pdfs/proposta_{row[\"id\"]}.pdf'\n",
    "\n",
    "    pdfkit.from_string(html_content, output_path, options=options)\n",
    "    print(f\"PDF gerado: {output_path}\")"
   ]
  },
  {
   "cell_type": "code",
   "execution_count": 7,
   "metadata": {},
   "outputs": [
    {
     "name": "stdout",
     "output_type": "stream",
     "text": [
      "Requirement already satisfied: pdfkit in /home/anderson/dev/django/acrux/.sa-parceiros/lib/python3.10/site-packages (1.0.0)\n",
      "\n",
      "\u001b[1m[\u001b[0m\u001b[34;49mnotice\u001b[0m\u001b[1;39;49m]\u001b[0m\u001b[39;49m A new release of pip available: \u001b[0m\u001b[31;49m22.2.2\u001b[0m\u001b[39;49m -> \u001b[0m\u001b[32;49m25.1\u001b[0m\n",
      "\u001b[1m[\u001b[0m\u001b[34;49mnotice\u001b[0m\u001b[1;39;49m]\u001b[0m\u001b[39;49m To update, run: \u001b[0m\u001b[32;49mpip install --upgrade pip\u001b[0m\n"
     ]
    }
   ],
   "source": [
    "!pip install pdfkit\n"
   ]
  },
  {
   "cell_type": "code",
   "execution_count": null,
   "metadata": {},
   "outputs": [],
   "source": []
  }
 ],
 "metadata": {
  "kernelspec": {
   "display_name": ".sa-parceiros",
   "language": "python",
   "name": "python3"
  },
  "language_info": {
   "codemirror_mode": {
    "name": "ipython",
    "version": 3
   },
   "file_extension": ".py",
   "mimetype": "text/x-python",
   "name": "python",
   "nbconvert_exporter": "python",
   "pygments_lexer": "ipython3",
   "version": "3.10.8"
  },
  "orig_nbformat": 4
 },
 "nbformat": 4,
 "nbformat_minor": 2
}
