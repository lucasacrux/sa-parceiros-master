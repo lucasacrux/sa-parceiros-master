{
 "cells": [
  {
   "cell_type": "code",
   "execution_count": 81,
   "metadata": {},
   "outputs": [],
   "source": [
    "from bs4 import BeautifulSoup\n",
    "import requests\n",
    "import time\n",
    "import pandas as pd"
   ]
  },
  {
   "cell_type": "code",
   "execution_count": 7,
   "metadata": {},
   "outputs": [],
   "source": [
    "headers = {\n",
    "    'User-Agent': 'Mozilla/5.0 (Macintosh; Intel Mac OS X 10.12; rv:55.0) Gecko/20100101 Firefox/55.0',\n",
    "}"
   ]
  },
  {
   "cell_type": "code",
   "execution_count": null,
   "metadata": {},
   "outputs": [],
   "source": [
    "list_resultado = []\n",
    "for i in range(1, 13965):\n",
    "    try:\n",
    "        if i % 50 == 0:\n",
    "            print(i)\n",
    "            time.sleep(5)\n",
    "        URL = f'https://mf-rg.intusvidere.com.br/credor1_evolqgc.php?id={i}'\n",
    "        response = requests.get(URL, headers=headers).content\n",
    "        soup     = BeautifulSoup(response, 'html.parser')\n",
    "\n",
    "        containers = soup.find_all('div', class_='row')[0].find_all('div')\n",
    "        cpf        = containers[0].text.replace('CPF-CNPJ:', '').replace('.','').replace('-','').strip()\n",
    "        nome       = containers[1].text.replace('Nome:', '').strip()\n",
    "        empresa    = containers[2].text.replace('Empresa:', '').strip()\n",
    "\n",
    "        tabelas                    = soup.find_all('table')\n",
    "        valores                    = tabelas[1].find_all('tr')[2].find_all('th')\n",
    "        empresa_2010               = valores[0].text\n",
    "        credito_classe1_2010_valor = valores[1].text\n",
    "        credito_classe3_2010_valor = valores[2].text\n",
    "        credito_2010_total         = valores[3].text\n",
    "        credito_classe1_2010_faixa = 'Até 150SM'\n",
    "        credito_classe3_2010_faixa = '> 150SM'\n",
    "        reserva_classe1_2010_faixa = 'Até 150SM'\n",
    "        reserva_classe3_2010_faixa = '> 150SM'\n",
    "        reserva_classe1_2010_valor = valores[4].text\n",
    "        reserva_classe3_2010_valor = valores[5].text\n",
    "        reserva_2010_total         = valores[6].text\n",
    "        valores                    = tabelas[3].find_all('tr')[2].find_all('th')\n",
    "        empresa_2024               = valores[0].text\n",
    "        credito_classe1_2024_valor = valores[1].text\n",
    "        credito_classe3_2024_valor = valores[2].text\n",
    "        credito_2024_total         = valores[3].text\n",
    "        credito_classe1_2024_faixa = 'Até 150SM'\n",
    "        credito_classe3_2024_faixa = '> 150SM'\n",
    "        reserva_classe1_2024_faixa = 'Até 150SM'\n",
    "        reserva_classe3_2024_faixa = '> 150SM'\n",
    "        reserva_classe1_2024_valor = valores[4].text\n",
    "        reserva_classe3_2024_valor = valores[5].text\n",
    "        reserva_2024_total         = valores[6].text\n",
    "        observacao                 = soup.find_all('div', class_='border-danger')[0].text\n",
    "\n",
    "        dict_divida = {\n",
    "            'cpf'                       : cpf,\n",
    "            'nome'                      : nome,\n",
    "            'empresa'                   : empresa,\n",
    "            'empresa_2010'              : empresa_2010,\n",
    "            'credito_classe1_2010_valor': credito_classe1_2010_valor,\n",
    "            'credito_classe3_2010_valor': credito_classe3_2010_valor,\n",
    "            'credito_2010_total'        : credito_2010_total,\n",
    "            'credito_classe1_2010_faixa': 'Até 150SM',\n",
    "            'credito_classe3_2010_faixa': '> 150SM',\n",
    "            'reserva_classe1_2010_faixa': 'Até 150SM',\n",
    "            'reserva_classe3_2010_faixa': '> 150SM',\n",
    "            'reserva_classe1_2010_valor': reserva_classe1_2010_valor,\n",
    "            'reserva_classe3_2010_valor': reserva_classe3_2010_valor,\n",
    "            'reserva_2010_total'        : reserva_2010_total,\n",
    "            'empresa_2024'              : empresa_2024,\n",
    "            'credito_classe1_2024_valor': credito_classe1_2024_valor,\n",
    "            'credito_classe3_2024_valor': credito_classe3_2024_valor,\n",
    "            'credito_2024_total'        : credito_2024_total,\n",
    "            'credito_classe1_2024_faixa': 'Até 150SM',\n",
    "            'credito_classe3_2024_faixa': '> 150SM',\n",
    "            'reserva_classe1_2024_faixa': 'Até 150SM',\n",
    "            'reserva_classe3_2024_faixa': '> 150SM',\n",
    "            'reserva_classe1_2024_valor': reserva_classe1_2024_valor,\n",
    "            'reserva_classe3_2024_valor': reserva_classe3_2024_valor,\n",
    "            'reserva_2024_total'        : reserva_2024_total,\n",
    "            'observacao'                : soup.find_all('div', class_='border-danger')[0].text.replace('\\n', ' ')\n",
    "        }\n",
    "        list_resultado.append(dict_divida)\n",
    "    except Exception as e:\n",
    "        print(f'erro: {e}', i)\n",
    "\n",
    "df_result = pd.DataFrame(list_resultado)\n",
    "df_result.to_csv('scraping_result.csv')"
   ]
  },
  {
   "cell_type": "code",
   "execution_count": 88,
   "metadata": {},
   "outputs": [],
   "source": [
    "import sqlalchemy"
   ]
  },
  {
   "cell_type": "code",
   "execution_count": 86,
   "metadata": {},
   "outputs": [],
   "source": [
    "class AcruxDBDataLake:\n",
    "    \n",
    "    def __init__(self):\n",
    "        self.host     = '35.237.180.90'\n",
    "        self.database = 'prd-parceiros'\n",
    "        self.user     = 'data_user'\n",
    "        self.password = \"]_;>K%*E}Mc/'3:u\"\n",
    "        \n",
    "    \n",
    "    def conecta_insert(self):\n",
    "        conn = sqlalchemy.create_engine(f\"mysql+mysqlconnector://{self.user}:{self.password}@{self.host}:3306/{self.database}\")\n",
    "        return conn"
   ]
  },
  {
   "cell_type": "code",
   "execution_count": 91,
   "metadata": {},
   "outputs": [],
   "source": [
    "df_result['observacoes'] = df_result['observacao']"
   ]
  },
  {
   "cell_type": "code",
   "execution_count": 95,
   "metadata": {},
   "outputs": [],
   "source": [
    "df_result = df_result.drop('observacao', axis=1)"
   ]
  },
  {
   "cell_type": "code",
   "execution_count": 87,
   "metadata": {},
   "outputs": [],
   "source": [
    "db = AcruxDBDataLake()"
   ]
  },
  {
   "cell_type": "code",
   "execution_count": 96,
   "metadata": {},
   "outputs": [
    {
     "data": {
      "text/plain": [
       "13964"
      ]
     },
     "execution_count": 96,
     "metadata": {},
     "output_type": "execute_result"
    }
   ],
   "source": [
    "dtype = {\n",
    "        \"cpf\"    : sqlalchemy.VARCHAR(20),\n",
    "        'nome'   : sqlalchemy.VARCHAR(250),\n",
    "        'empresa': sqlalchemy.VARCHAR(100),\n",
    "        'credito_classe1_2010_faixa': sqlalchemy.VARCHAR(100),\n",
    "        'credito_classe1_2010_valor': sqlalchemy.VARCHAR(100),\n",
    "        'credito_classe3_2010_faixa': sqlalchemy.VARCHAR(100),\n",
    "        'credito_classe3_2010_valor': sqlalchemy.VARCHAR(100),\n",
    "        'credito_2010_total'        : sqlalchemy.VARCHAR(100),\n",
    "        'empresa_2010'              : sqlalchemy.VARCHAR(100),\n",
    "        'reserva_classe1_2010_faixa': sqlalchemy.VARCHAR(100),\n",
    "        'reserva_classe1_2010_valor': sqlalchemy.VARCHAR(100),\n",
    "        'reserva_classe3_2010_faixa': sqlalchemy.VARCHAR(100),\n",
    "        'reserva_classe3_2010_valor': sqlalchemy.VARCHAR(100),\n",
    "        'reserva_2010_total'        : sqlalchemy.VARCHAR(100),\n",
    "        'credito_classe1_2024_faixa': sqlalchemy.VARCHAR(100),\n",
    "        'credito_classe1_2024_valor': sqlalchemy.VARCHAR(100),\n",
    "        'credito_classe3_2024_faixa': sqlalchemy.VARCHAR(100),\n",
    "        'credito_classe3_2024_valor': sqlalchemy.VARCHAR(100),\n",
    "        'credito_2024_total'        : sqlalchemy.VARCHAR(100),\n",
    "        'empresa_2024'              : sqlalchemy.VARCHAR(100),\n",
    "        'reserva_classe1_2024_faixa': sqlalchemy.VARCHAR(100),\n",
    "        'reserva_classe1_2024_valor': sqlalchemy.VARCHAR(100),\n",
    "        'reserva_classe3_2024_faixa': sqlalchemy.VARCHAR(100),\n",
    "        'reserva_classe3_2024_valor': sqlalchemy.VARCHAR(100),\n",
    "        'reserva_2024_total'        : sqlalchemy.VARCHAR(100),\n",
    "        'observacoes'               : sqlalchemy.VARCHAR(250)\n",
    "    }\n",
    "\n",
    "\n",
    "conn = db.conecta_insert()\n",
    "\n",
    "df_result.to_sql(\n",
    "                    'whitelabel_massasfalidas',\n",
    "                    conn,\n",
    "                    if_exists='append',\n",
    "                    index=False,\n",
    "                    chunksize=500,\n",
    "                    dtype=dtype\n",
    "                    )"
   ]
  },
  {
   "cell_type": "code",
   "execution_count": null,
   "metadata": {},
   "outputs": [],
   "source": []
  }
 ],
 "metadata": {
  "kernelspec": {
   "display_name": ".sa-parceiros",
   "language": "python",
   "name": "python3"
  },
  "language_info": {
   "codemirror_mode": {
    "name": "ipython",
    "version": 3
   },
   "file_extension": ".py",
   "mimetype": "text/x-python",
   "name": "python",
   "nbconvert_exporter": "python",
   "pygments_lexer": "ipython3",
   "version": "3.10.8"
  },
  "orig_nbformat": 4
 },
 "nbformat": 4,
 "nbformat_minor": 2
}
